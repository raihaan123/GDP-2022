{
 "cells": [
  {
   "cell_type": "markdown",
   "metadata": {},
   "source": [
    "# Link Analysis Notebook\n",
    "By Raihaan Usman"
   ]
  },
  {
   "cell_type": "markdown",
   "metadata": {},
   "source": [
    "### Initialization"
   ]
  },
  {
   "cell_type": "code",
   "execution_count": 1,
   "metadata": {},
   "outputs": [],
   "source": [
    "import numpy as np\n",
    "from numpy import sin, cos, tan, pi, sqrt\n",
    "from scipy.optimize import minimize\n",
    "\n",
    "# Ground station parameters\n",
    "min_elevation = theta = np.deg2rad(0)\n",
    "fov = pi - min_elevation * 2\n",
    "\n",
    "# Earth parameters\n",
    "r_E = 6371e3\n",
    "mu_E = 3.986e14\n",
    "\n",
    "# Orbital elements\n",
    "h_orbit = 800e3\n",
    "a = h_orbit + r_E"
   ]
  },
  {
   "cell_type": "markdown",
   "metadata": {},
   "source": [
    "## Contact time per pass over Ground Station"
   ]
  },
  {
   "cell_type": "code",
   "execution_count": 2,
   "metadata": {},
   "outputs": [
    {
     "name": "stdout",
     "output_type": "stream",
     "text": [
      "Orbital period in minutes: 100.72320918114909\n",
      "Angular distance traversed in one pass in degrees: 27.32155343280554\n",
      "Contact time in minutes: 7.644207059906707\n",
      "Maximum distance between satellite and ground station in km: 3291.372834135686\n"
     ]
    }
   ],
   "source": [
    "# Kepler's Law to find orbital period of circular orbit\n",
    "T_orbit = 2 * pi * sqrt( a**3 / mu_E )\n",
    "print(\"Orbital period in minutes:\", T_orbit / 60)\n",
    "\n",
    "\n",
    "# Earth-centred Angular Distance traversed in one pass - solving a transcendental equation!\n",
    "def opt_fun(phi, theta, A):\n",
    "    return ( cos(phi)*(tan(phi)/tan(pi/2 + theta) + 1) - A ) ** 2           # Full derivation in physical notebook...\n",
    "\n",
    "A = r_E / a\n",
    "res = minimize(lambda phi: opt_fun(phi, theta, A), x0=0.0001)\n",
    "\n",
    "# Extract the root from the minimization result\n",
    "phi = res.x[0]\n",
    "print(\"Angular distance traversed in one pass in degrees:\", np.rad2deg(phi))\n",
    "\n",
    "\n",
    "# Time to pass through the ground station\n",
    "T_pass = T_orbit * phi / (2 * np.pi)\n",
    "print(\"Contact time in minutes:\", T_pass / 60)\n",
    "\n",
    "\n",
    "# Maximum distance between mothership and ground station during contact\n",
    "max_d = a * sin(phi) / sin(pi/2+ theta)\n",
    "print(\"Maximum distance between satellite and ground station in km:\", max_d/1000)"
   ]
  },
  {
   "cell_type": "markdown",
   "metadata": {},
   "source": [
    "## Link Parameters"
   ]
  },
  {
   "cell_type": "markdown",
   "metadata": {},
   "source": [
    "#### The link budget is defined as the ratio of the received power to the transmitted power. Should be positive!\n",
    "\n",
    "The equation for the link budget in dB form is:\n",
    "\n",
    "### $P_{rx} = P_{tx} + G_{tx} + G_{rx} - L_{tx} - L_{rx} - L_{fs} - L_{misc}$\n",
    "\\\n",
    "where:\n",
    "\n",
    "$P_{rx}$ is the received power,\\\n",
    "$P_{tx}$ is the transmitted power,\\\n",
    "$G_{tx}$ is the gain of the transmitter,\\\n",
    "$G_{rx}$ is the gain of the receiver,\\\n",
    "$L_{tx}$ is the loss of the transmitter,\\\n",
    "$L_{rx}$ is the loss of the receiver,\\\n",
    "$L_{fs}$ is the free space path loss, and\\\n",
    "$L_{misc}$ is the loss of miscellaneous factors."
   ]
  },
  {
   "cell_type": "code",
   "execution_count": 3,
   "metadata": {},
   "outputs": [],
   "source": [
    "# NOTE - all units are in SI! Could use pint library but I'm lazy\n",
    "\n",
    "speed_of_light = c = 299792458\n",
    "\n",
    "\n",
    "\n",
    "\n",
    "### Utility functions ###\n",
    "\n",
    "# Decibel conversion lambda\n",
    "dB = lambda x: 10 * np.log10(x)\n",
    "\n",
    "# Linear conversion lambda\n",
    "lin = lambda x: 10 ** (x / 10)"
   ]
  },
  {
   "cell_type": "markdown",
   "metadata": {},
   "source": [
    "### Lambda Functions for Link Budget"
   ]
  },
  {
   "cell_type": "code",
   "execution_count": 4,
   "metadata": {},
   "outputs": [],
   "source": [
    "# TX Antenna half-power beamwidth - in degrees\n",
    "# Augumented for f in Hz, D in m\n",
    "beamwidth = lambda D, f: 21e9 / (f * D)\n",
    "\n",
    "\n",
    "# Antenna gain in dB - specific to antennas with a circularly symmetric radiating aperture\n",
    "# Augumented for f in Hz, D in m\n",
    "G_tx = lambda D, f, eta_tx: 200.4 + 2*dB(D) + 2*dB(f) + dB(eta_tx)     \n",
    "\n",
    "\n",
    "# Beam shaping - directivity is a function of coverage area in degrees-squared and antenna efficiency\n",
    "G_tx_shaped = lambda A_theta, eta_tx: 46.15 - dB(A_theta) + dB(eta_tx)\n",
    "\n",
    "\n",
    "# EIRP - Effective Isotropic Radiated Power = Forward power + Antenna gain\n",
    "EIRP = lambda P_tx, G_tx: P_tx + G_tx\n",
    "\n",
    "\n",
    "# Free space path loss - in dB\n",
    "FSPL = lambda d, f: 2 * ( dB(d) + dB(f) + dB(4*pi / c) )\n",
    "\n",
    "\n",
    "# Received power - the sum of EIRP and G_rx and minus the FSPL, atmospheric and line losses\n",
    "C = lambda eirp, G_rx, L_s, L_atm, L_line: eirp + G_rx - L_s - L_atm - L_line\n",
    "\n",
    "\n",
    "# G/T - Receiver gain to Noise temperature ratio - both in dB\n",
    "G_T = lambda G_rx, T_rx: G_rx - T_rx\n",
    "\n",
    "\n",
    "# C/N0 - Received signal power to noise power ratio - both in dB\n",
    "C_N0 = lambda eirp, g_t, L_total: eirp + g_t - L_total + 228.6\n",
    "\n",
    "\n",
    "# Eb/N0 - Signal To Noise ratio\n",
    "Eb_N0 = lambda c_n0, Rb: c_n0 - dB(Rb)"
   ]
  },
  {
   "cell_type": "markdown",
   "metadata": {},
   "source": [
    "## Sample Links"
   ]
  },
  {
   "cell_type": "markdown",
   "metadata": {},
   "source": [
    "### Uplink from Ground Station to Mothership"
   ]
  },
  {
   "cell_type": "code",
   "execution_count": 6,
   "metadata": {},
   "outputs": [
    {
     "name": "stdout",
     "output_type": "stream",
     "text": [
      "x = 524.8074602497722\n"
     ]
    }
   ],
   "source": [
    "# Set requirements for the link - driven by external systems\n",
    "data_rate = 1e6                     # 1Mbps = 1e6 bits/s\n",
    "availability = 0.99                 # 99% availability\n",
    "\n",
    "# Pointing loss (rolloff in gain) - design point allows for 10% error of the beamwidth\n",
    "EOC = 3                 # Edge of coverage - arbitarily 3 dB down from peak gain - about 50% loss\n",
    "L_pointing = 0.12       # Peak pointing loss - in dB - TODO add the EOC error from antenna spec sheet for 10% error\n",
    "\n",
    "\n",
    "# Modem Implementation Loss\n",
    "# Required Eb/No\n",
    "# Link Margin\n",
    "# Channel Bandwidth\n",
    "# Number of Channels\n",
    "# Number of Users/Channel\n",
    "# Single User Data Rate\n"
   ]
  }
 ],
 "metadata": {
  "interpreter": {
   "hash": "4f946df053fbf2b937619d3c5458e7af74262f9a954d8797ba0b27400bcafe06"
  },
  "kernelspec": {
   "display_name": "Python 3.10.4 64-bit",
   "language": "python",
   "name": "python3"
  },
  "language_info": {
   "codemirror_mode": {
    "name": "ipython",
    "version": 3
   },
   "file_extension": ".py",
   "mimetype": "text/x-python",
   "name": "python",
   "nbconvert_exporter": "python",
   "pygments_lexer": "ipython3",
   "version": "3.10.4"
  },
  "orig_nbformat": 4
 },
 "nbformat": 4,
 "nbformat_minor": 2
}
