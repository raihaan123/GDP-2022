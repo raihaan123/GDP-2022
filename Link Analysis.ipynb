{
 "cells": [
  {
   "cell_type": "markdown",
   "metadata": {},
   "source": [
    "# Link Analysis Notebook\n",
    "By Raihaan Usman"
   ]
  },
  {
   "cell_type": "markdown",
   "metadata": {},
   "source": [
    "### Initialization"
   ]
  },
  {
   "cell_type": "code",
   "execution_count": 70,
   "metadata": {},
   "outputs": [],
   "source": [
    "import numpy as np\n",
    "from numpy import sin, cos, tan, pi, sqrt\n",
    "from scipy.optimize import minimize\n",
    "\n",
    "# Ground station parameters\n",
    "min_elevation = theta = np.deg2rad(0)\n",
    "fov = pi - min_elevation * 2\n",
    "\n",
    "# Earth parameters\n",
    "r_E = 6371e3\n",
    "mu_E = 3.986e14\n",
    "\n",
    "# Orbital elements\n",
    "h_orbit = 800e3\n",
    "a = h_orbit + r_E"
   ]
  },
  {
   "cell_type": "markdown",
   "metadata": {},
   "source": [
    "### Contact time per pass over groundstation"
   ]
  },
  {
   "cell_type": "code",
   "execution_count": 71,
   "metadata": {},
   "outputs": [
    {
     "name": "stdout",
     "output_type": "stream",
     "text": [
      "Orbital period in minutes: 100.72320918114909\n",
      "True\n",
      "Angular distance traversed in one pass in degrees: 27.32155343280554\n",
      "Contact time in minutes: 7.644207059906707\n"
     ]
    }
   ],
   "source": [
    "# Kepler's Law to find orbital period of circular orbit\n",
    "T_orbit = 2 * pi * sqrt( a**3 / mu_E )\n",
    "print(\"Orbital period in minutes:\", T_orbit / 60)\n",
    "\n",
    "\n",
    "# Earth-centred Angular Distance traversed in one pass - solving a transcendental equation!\n",
    "def opt_fun(phi, theta, A):\n",
    "    return ( cos(phi)*(tan(phi)/tan(pi/2 + theta) + 1) - A ) ** 2           # Full derivation in physical notebook...\n",
    "\n",
    "A = r_E / a\n",
    "res = minimize(lambda phi: opt_fun(phi, theta, A), x0=0.0001)\n",
    "\n",
    "# Extract the root from the minimization result\n",
    "phi = res.x[0]\n",
    "print(\"Angular distance traversed in one pass in degrees:\", np.rad2deg(phi))\n",
    "\n",
    "\n",
    "# Time to pass through the ground station\n",
    "T_pass = T_orbit * phi / (2 * np.pi)\n",
    "print(\"Contact time in minutes:\", T_pass / 60)"
   ]
  },
  {
   "cell_type": "markdown",
   "metadata": {},
   "source": [
    "### Link Parameters"
   ]
  },
  {
   "cell_type": "code",
   "execution_count": 72,
   "metadata": {},
   "outputs": [
    {
     "name": "stdout",
     "output_type": "stream",
     "text": [
      "Maximum distance between satellite and ground station in km: 3291.372834135686\n"
     ]
    }
   ],
   "source": [
    "# Maximum distance between mothership and ground station during contact\n",
    "max_d = a * sin(phi) / sin(pi/2+ theta)\n",
    "print(\"Maximum distance between satellite and ground station in km:\", max_d/1000)\n",
    "\n"
   ]
  }
 ],
 "metadata": {
  "interpreter": {
   "hash": "4f946df053fbf2b937619d3c5458e7af74262f9a954d8797ba0b27400bcafe06"
  },
  "kernelspec": {
   "display_name": "Python 3.10.4 64-bit",
   "language": "python",
   "name": "python3"
  },
  "language_info": {
   "codemirror_mode": {
    "name": "ipython",
    "version": 3
   },
   "file_extension": ".py",
   "mimetype": "text/x-python",
   "name": "python",
   "nbconvert_exporter": "python",
   "pygments_lexer": "ipython3",
   "version": "3.10.4"
  },
  "orig_nbformat": 4
 },
 "nbformat": 4,
 "nbformat_minor": 2
}
