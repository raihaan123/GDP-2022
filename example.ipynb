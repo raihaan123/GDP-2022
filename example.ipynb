{
 "cells": [
  {
   "cell_type": "markdown",
   "metadata": {},
   "source": [
    "# Link Analyser - Example Usage\n",
    "#### By Raihaan Usman\n",
    "A walkthrough of the example in SMAD on page 480"
   ]
  },
  {
   "cell_type": "code",
   "execution_count": 1,
   "metadata": {},
   "outputs": [],
   "source": [
    "from IPython.core.display import display, HTML\n",
    "from pyvis import network as net\n",
    "import networkx as nx\n",
    "import numpy as np\n",
    "\n",
    "from LinkAnalyzer.components import *\n",
    "\n",
    "\n",
    "# Create a ground station platform\n",
    "gs = GroundStation(lat=0, lon=0, alt=0)\n",
    "\n",
    "# Create a Geostationary satellite platform\n",
    "geo = GEORelay(r_ecef=gs.r_ecef + np.array([3.8e7, 0, 0]))"
   ]
  },
  {
   "cell_type": "markdown",
   "metadata": {},
   "source": [
    "### Example Space/Ground Network"
   ]
  },
  {
   "cell_type": "code",
   "execution_count": 2,
   "metadata": {},
   "outputs": [
    {
     "name": "stdout",
     "output_type": "stream",
     "text": [
      "Link Budget Report\n",
      "                Frequency:      14000000000.0 Hz\n",
      "                Path Distance:  38000000.0 m\n",
      "                EIRP:           79.74 dBW\n",
      "                FSPL:           206.97 dB\n",
      "                G_tx:           60.73 dBi\n",
      "                G_rx:           33.36 dBi\n",
      "                G/T:            6.16 dB/K\n",
      "                C/N0:           95.54 dB-Hz\n",
      "                Eb/n0:          19.10 dB\n"
     ]
    }
   ],
   "source": [
    "# Ground station antenna!\n",
    "gs_antenna = Antenna(D=10, eta=0.55, platform=gs)\n",
    "\n",
    "# Satellite antenna!\n",
    "geo_antenna = ShapedAntenna(A_theta=13.3, eta=0.7, platform=geo)\n",
    "\n",
    "\n",
    "\n",
    "\n",
    "# Define an RF link between the antennas\n",
    "uplink = RF(TX=gs_antenna, RX=geo_antenna, Ts=525)\n",
    "\n",
    "# Run the solver! Parameters here can be optimized intelligently\n",
    "uplink.compute(f=14e9, P_tx=200, Rb=44e6, L_line_tx=4, L_line_rx=2, mod='QPSK', m=1)\n",
    "uplink.report()"
   ]
  },
  {
   "cell_type": "markdown",
   "metadata": {},
   "source": [
    "### Downlink Example"
   ]
  },
  {
   "cell_type": "code",
   "execution_count": 3,
   "metadata": {},
   "outputs": [],
   "source": [
    "# geo_antenna.set_power(power=100)"
   ]
  },
  {
   "cell_type": "code",
   "execution_count": null,
   "metadata": {},
   "outputs": [],
   "source": [
    "\n",
    "# from pyvis import network as net\n",
    "# from IPython.core.display import display, HTML\n",
    "# import networkx as nx\n",
    "\n",
    "# g=net.Network(height='400px', width='50%',heading='')\n",
    "# g.add_node(1)\n",
    "# g.add_node(2)\n",
    "# g.add_node(3)\n",
    "# g.add_edge(1,2)\n",
    "# g.add_edge(2,3)\n",
    "\n",
    "# g.show('example.html')\n",
    "\n",
    "# g2=net.Network(height='400px', width='80%',heading='')\n",
    "# g2.add_nodes([1,2,3], \n",
    "#              value=[10, 100, 400], \n",
    "#              title=[\"I am node 1\", \"node 2 here\", \"and im node 3\"], \n",
    "#              x=[0, 50, 100], y=[100, 50, 50], \n",
    "#              label=[\"NODE 1\", \"NODE 2\", \"NODE 3\"], \n",
    "#              color=[\"#00ff1e\", \"#162347\", \"#dd4b39\"])\n",
    "\n",
    "# g2.add_edges([[1,2],[2,3],[1,3]])\n",
    "# g2.add_node(4,1000,x=0,y=00,physics=False)\n",
    "# g2.add_node(5,1000,x=100,y=100,physics=False)\n",
    "\n",
    "# display(HTML('g2.html'))\n",
    "\n",
    "\n",
    "# def show_graph(net,name):\n",
    "#   net.show(name)\n",
    "#   display(HTML(name))\n",
    "\n",
    "# show_graph(g2,'g2.html')\n",
    "\n",
    "# ids=['C', 'N', 'C', 'N', 'C', 'C', 'C', 'O', 'N', 'C', 'O', 'N', 'C', 'C']\n",
    "\n",
    "# xs=[2.776, 1.276, 0.3943, -1.0323, -1.0323, 0.3943, 0.7062, 2.1328, -0.4086, -1.8351, -2.9499, -2.147, -3.5736, -0.0967]\n",
    "\n",
    "# ys=[0.0, 0.0, 1.2135, 0.75, -0.75, -1.2135, -2.6807, -3.1443, -3.6844, -3.2209, -4.2246, -1.7537, -1.2902, -5.1517]\n",
    "\n",
    "# bonds=[[0, 1], [1, 2], [2, 3], [3, 4], [4, 5], [5, 6], [6, 7], [6, 8], [8, 9], [9, 10], [9, 11], [11, 12], [8, 13], [5, 1], [11, 4]]\n",
    "\n",
    "# g3=net.Network(height='400px', width='80%',heading='')\n",
    "\n",
    "# g3.set_options('''\n",
    "# var options = {\n",
    "#     \"nodes\": {\n",
    "#     \"borderWidth\": 2,\n",
    "#     \"borderWidthSelected\": 4\n",
    "#   },\n",
    "#   \"edges\":{\n",
    "#     \"width\":24\n",
    "#   },\n",
    "#   \"physics\": {\n",
    "#     \"barnesHut\": {\n",
    "#       \"gravitationalConstant\":-2000,\n",
    "#       \"centralGravity\": 0,\n",
    "#       \"springLength\": 60,\n",
    "#       \"springConstant\": 0.545,\n",
    "#       \"damping\": 0.1,\n",
    "#       \"avoidOverlap\": 0.52\n",
    "#     },\n",
    "#     \"maxVelocity:\":50,\n",
    "#     \"minVelocity\": 0.75,\n",
    "#     \"timestep\": 0.5\n",
    "#   }\n",
    "# }\n",
    "# ''')\n",
    "\n",
    "# for atomo in range(14): \n",
    "#   g3.add_node(atomo,label=ids[atomo],x=int(100*xs[atomo]),y=int(100*ys[atomo]),physics=True,size=30)\n",
    "  \n",
    "# g3.add_edges(bonds)\n",
    "# show_graph(g3,'g3.html')\n",
    "\n",
    "# g4 = net.Network(height='400px', width='50%',notebook=True,heading='Zachary’s Karate Club graph')\n",
    "\n",
    "\n",
    "# G = nx.karate_club_graph()\n",
    "# g4.from_nx(G)\n",
    "\n",
    "# g4.show_buttons(filter_=['physics'])\n",
    "# g4.show('karate.html')\n",
    "\n",
    "# display(HTML('karate.html'))"
   ]
  }
 ],
 "metadata": {
  "kernelspec": {
   "display_name": "Python 3.10.4 64-bit",
   "language": "python",
   "name": "python3"
  },
  "language_info": {
   "codemirror_mode": {
    "name": "ipython",
    "version": 3
   },
   "file_extension": ".py",
   "mimetype": "text/x-python",
   "name": "python",
   "nbconvert_exporter": "python",
   "pygments_lexer": "ipython3",
   "version": "3.10.4"
  },
  "orig_nbformat": 4,
  "vscode": {
   "interpreter": {
    "hash": "4f946df053fbf2b937619d3c5458e7af74262f9a954d8797ba0b27400bcafe06"
   }
  }
 },
 "nbformat": 4,
 "nbformat_minor": 2
}
