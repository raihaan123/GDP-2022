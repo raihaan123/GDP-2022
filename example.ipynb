{
 "cells": [
  {
   "cell_type": "markdown",
   "metadata": {},
   "source": [
    "# Link Analyser - Example Usage\n",
    "#### By Raihaan Usman\n",
    "A walkthrough of the example in SMAD on page 480"
   ]
  },
  {
   "cell_type": "code",
   "execution_count": 1,
   "metadata": {},
   "outputs": [],
   "source": [
    "import numpy as np\n",
    "from LinkAnalyzer.components import *\n",
    "\n",
    "\n",
    "# Create a ground station platform\n",
    "gs = GroundStation(lat=0, lon=0, alt=0)\n",
    "\n",
    "# Create a Geostationary satellite platform\n",
    "geo = GEORelay(r_ecef=gs.r_ecef + np.array([3.8e7, 0, 0]))"
   ]
  },
  {
   "cell_type": "markdown",
   "metadata": {},
   "source": [
    "### Uplink Example"
   ]
  },
  {
   "cell_type": "code",
   "execution_count": 2,
   "metadata": {},
   "outputs": [
    {
     "name": "stdout",
     "output_type": "stream",
     "text": [
      "Link Budget Report\n",
      "                Frequency:      14000000000.0 Hz\n",
      "                Path Distance:  38000000.0 m\n",
      "                EIRP:           79.74 dBW\n",
      "                FSPL:           206.97 dB\n",
      "                G_tx:           60.73 dBi\n",
      "                G_rx:           33.36 dBi\n",
      "                G/T:            6.16 dB/K\n",
      "                C/N0:           95.54 dB-Hz\n",
      "                Eb/n0:          19.10 dB\n"
     ]
    }
   ],
   "source": [
    "# Ground station antenna!\n",
    "gs_antenna = Antenna(D=10, eta=0.55, platform=gs)\n",
    "\n",
    "# Satellite antenna!\n",
    "geo_antenna = ShapedAntenna(A_theta=13.3, eta=0.7, platform=geo)\n",
    "\n",
    "# Define an RF link between the antennas\n",
    "uplink = RF(TX=gs_antenna, RX=geo_antenna, Ts=525)\n",
    "\n",
    "# Run the solver! Parameters here can be optimized intelligently\n",
    "uplink.compute(f=14e9, P_tx=200, Rb=44e6, L_line_tx=4, L_line_rx=2, mod='QPSK', m=1)\n",
    "uplink.report()"
   ]
  },
  {
   "cell_type": "markdown",
   "metadata": {},
   "source": [
    "### Downlink Example"
   ]
  },
  {
   "cell_type": "code",
   "execution_count": 3,
   "metadata": {},
   "outputs": [],
   "source": [
    "# geo_antenna.set_power(power=100)"
   ]
  }
 ],
 "metadata": {
  "kernelspec": {
   "display_name": "Python 3.10.4 64-bit",
   "language": "python",
   "name": "python3"
  },
  "language_info": {
   "codemirror_mode": {
    "name": "ipython",
    "version": 3
   },
   "file_extension": ".py",
   "mimetype": "text/x-python",
   "name": "python",
   "nbconvert_exporter": "python",
   "pygments_lexer": "ipython3",
   "version": "3.10.4"
  },
  "orig_nbformat": 4,
  "vscode": {
   "interpreter": {
    "hash": "4f946df053fbf2b937619d3c5458e7af74262f9a954d8797ba0b27400bcafe06"
   }
  }
 },
 "nbformat": 4,
 "nbformat_minor": 2
}
