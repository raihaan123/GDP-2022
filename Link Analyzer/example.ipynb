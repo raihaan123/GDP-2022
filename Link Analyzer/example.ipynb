{
 "cells": [
  {
   "cell_type": "markdown",
   "metadata": {},
   "source": [
    "# Link Analyser - Example Usage\n",
    "#### By Raihaan Usman\n",
    "A walkthrough of the example in SMAD on page 480"
   ]
  },
  {
   "cell_type": "code",
   "execution_count": 7,
   "metadata": {},
   "outputs": [],
   "source": [
    "import numpy as np\n",
    "from components import *\n",
    "\n",
    "\n",
    "# Create a ground station platform\n",
    "gs = GroundStation(lat=0, lon=0, alt=0)\n",
    "\n",
    "# Create a Geostationary satellite platform\n",
    "geo = GEORelay(r_ecef=gs.r_ecef + np.array([3.8e7, 0, 0]))"
   ]
  },
  {
   "cell_type": "markdown",
   "metadata": {},
   "source": [
    "### Uplink Example"
   ]
  },
  {
   "cell_type": "code",
   "execution_count": 8,
   "metadata": {},
   "outputs": [
    {
     "name": "stdout",
     "output_type": "stream",
     "text": [
      "EIRP: 79.74307096047113\n",
      "FSPL: 206.96601586778434\n",
      "G_tx: 60.73277100383131\n",
      "G_rx: 33.36246399047171\n",
      "G_t: 6.16087095641214\n",
      "C: -105.8604809168415\n",
      "C_n0: 95.53792604909893\n",
      "EB_n0: 19.103399284237042\n"
     ]
    }
   ],
   "source": [
    "# Ground station antenna!\n",
    "gs_antenna = Antenna(D=10, P=200, eta=0.55, L_line=4, platform=gs)\n",
    "\n",
    "# Satellite antenna!\n",
    "geo_antenna = ShapedAntenna(eta=0.7, L_line=2, platform=geo)\n",
    "\n",
    "# Define an RF link between the antennas\n",
    "uplink = RF(f=14e9, TX=gs_antenna, RX=geo_antenna, Rb=44e6)\n",
    "\n",
    "# Run the solver!\n",
    "uplink.compute()\n",
    "uplink.report()"
   ]
  },
  {
   "cell_type": "markdown",
   "metadata": {},
   "source": [
    "### Downlink Example"
   ]
  },
  {
   "cell_type": "code",
   "execution_count": 9,
   "metadata": {},
   "outputs": [],
   "source": [
    "# geo_antenna.set_power(power=100)"
   ]
  }
 ],
 "metadata": {
  "kernelspec": {
   "display_name": "Python 3.10.4 64-bit",
   "language": "python",
   "name": "python3"
  },
  "language_info": {
   "codemirror_mode": {
    "name": "ipython",
    "version": 3
   },
   "file_extension": ".py",
   "mimetype": "text/x-python",
   "name": "python",
   "nbconvert_exporter": "python",
   "pygments_lexer": "ipython3",
   "version": "3.10.4"
  },
  "orig_nbformat": 4,
  "vscode": {
   "interpreter": {
    "hash": "4f946df053fbf2b937619d3c5458e7af74262f9a954d8797ba0b27400bcafe06"
   }
  }
 },
 "nbformat": 4,
 "nbformat_minor": 2
}
